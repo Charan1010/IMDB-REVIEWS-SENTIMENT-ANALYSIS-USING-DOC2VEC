{
  "cells": [
    {
      "metadata": {
        "_cell_guid": "79c7e3d0-c299-4dcb-8224-4455121ee9b0",
        "_uuid": "d629ff2d2480ee46fbb7e2d37f6b5fab8052498a",
        "trusted": true
      },
      "cell_type": "code",
      "source": "import numpy as np \nimport pandas as pd",
      "execution_count": 139,
      "outputs": []
    },
    {
      "metadata": {
        "trusted": true,
        "_uuid": "ab8df14732134cb731a8d32499e09c38a9aae717"
      },
      "cell_type": "code",
      "source": "import os\nprint(os.listdir(\"../input\"))",
      "execution_count": 140,
      "outputs": [
        {
          "output_type": "stream",
          "text": "['slangwords', 'imdb-review-dataset']\n",
          "name": "stdout"
        }
      ]
    },
    {
      "metadata": {
        "trusted": true,
        "_uuid": "13fddaa91f0bc160f8d03d41b2be60d6a633d6ba"
      },
      "cell_type": "code",
      "source": "\ndf=pd.read_csv(\"../input/imdb-review-dataset/imdb_master.csv\", encoding='latin-1', index_col = 0)",
      "execution_count": 141,
      "outputs": []
    },
    {
      "metadata": {
        "trusted": true,
        "_uuid": "94edc9b950738e37fe80dc14b8d9ee03c6b1f4d6"
      },
      "cell_type": "code",
      "source": "df.label.value_counts()",
      "execution_count": 142,
      "outputs": [
        {
          "output_type": "execute_result",
          "execution_count": 142,
          "data": {
            "text/plain": "unsup    50000\npos      25000\nneg      25000\nName: label, dtype: int64"
          },
          "metadata": {}
        }
      ]
    },
    {
      "metadata": {
        "trusted": true,
        "_uuid": "a3db90242c1879a4f2e0a2c3123291157d52433c"
      },
      "cell_type": "code",
      "source": "#REMOVAL OF  ROWS WITH 'UNSUP' LABEL FROM DATAFRAME\ndf=df[df['label']!='unsup']",
      "execution_count": 143,
      "outputs": []
    },
    {
      "metadata": {
        "trusted": true,
        "_uuid": "a25b61c2ab592becdcae1c33cc236983c30497da"
      },
      "cell_type": "code",
      "source": "df.head()",
      "execution_count": 144,
      "outputs": [
        {
          "output_type": "execute_result",
          "execution_count": 144,
          "data": {
            "text/plain": "   type     ...              file\n0  test     ...           0_2.txt\n1  test     ...       10000_4.txt\n2  test     ...       10001_1.txt\n3  test     ...       10002_3.txt\n4  test     ...       10003_3.txt\n\n[5 rows x 4 columns]",
            "text/html": "<div>\n<style scoped>\n    .dataframe tbody tr th:only-of-type {\n        vertical-align: middle;\n    }\n\n    .dataframe tbody tr th {\n        vertical-align: top;\n    }\n\n    .dataframe thead th {\n        text-align: right;\n    }\n</style>\n<table border=\"1\" class=\"dataframe\">\n  <thead>\n    <tr style=\"text-align: right;\">\n      <th></th>\n      <th>type</th>\n      <th>review</th>\n      <th>label</th>\n      <th>file</th>\n    </tr>\n  </thead>\n  <tbody>\n    <tr>\n      <th>0</th>\n      <td>test</td>\n      <td>Once again Mr. Costner has dragged out a movie...</td>\n      <td>neg</td>\n      <td>0_2.txt</td>\n    </tr>\n    <tr>\n      <th>1</th>\n      <td>test</td>\n      <td>This is an example of why the majority of acti...</td>\n      <td>neg</td>\n      <td>10000_4.txt</td>\n    </tr>\n    <tr>\n      <th>2</th>\n      <td>test</td>\n      <td>First of all I hate those moronic rappers, who...</td>\n      <td>neg</td>\n      <td>10001_1.txt</td>\n    </tr>\n    <tr>\n      <th>3</th>\n      <td>test</td>\n      <td>Not even the Beatles could write songs everyon...</td>\n      <td>neg</td>\n      <td>10002_3.txt</td>\n    </tr>\n    <tr>\n      <th>4</th>\n      <td>test</td>\n      <td>Brass pictures (movies is not a fitting word f...</td>\n      <td>neg</td>\n      <td>10003_3.txt</td>\n    </tr>\n  </tbody>\n</table>\n</div>"
          },
          "metadata": {}
        }
      ]
    },
    {
      "metadata": {
        "trusted": true,
        "_uuid": "8ba0d65028bd514c7f215dd69ce3c25b66a58f0c"
      },
      "cell_type": "code",
      "source": "# DROPPING FILE COLUMN FROM DATAFRAME\ndf=df.drop(['file'],axis=1)",
      "execution_count": 145,
      "outputs": []
    },
    {
      "metadata": {
        "trusted": true,
        "_uuid": "9968d476497b4c69ac35205df8b21861f3fbb7de"
      },
      "cell_type": "code",
      "source": "df.head()",
      "execution_count": 146,
      "outputs": [
        {
          "output_type": "execute_result",
          "execution_count": 146,
          "data": {
            "text/plain": "   type                                             review label\n0  test  Once again Mr. Costner has dragged out a movie...   neg\n1  test  This is an example of why the majority of acti...   neg\n2  test  First of all I hate those moronic rappers, who...   neg\n3  test  Not even the Beatles could write songs everyon...   neg\n4  test  Brass pictures (movies is not a fitting word f...   neg",
            "text/html": "<div>\n<style scoped>\n    .dataframe tbody tr th:only-of-type {\n        vertical-align: middle;\n    }\n\n    .dataframe tbody tr th {\n        vertical-align: top;\n    }\n\n    .dataframe thead th {\n        text-align: right;\n    }\n</style>\n<table border=\"1\" class=\"dataframe\">\n  <thead>\n    <tr style=\"text-align: right;\">\n      <th></th>\n      <th>type</th>\n      <th>review</th>\n      <th>label</th>\n    </tr>\n  </thead>\n  <tbody>\n    <tr>\n      <th>0</th>\n      <td>test</td>\n      <td>Once again Mr. Costner has dragged out a movie...</td>\n      <td>neg</td>\n    </tr>\n    <tr>\n      <th>1</th>\n      <td>test</td>\n      <td>This is an example of why the majority of acti...</td>\n      <td>neg</td>\n    </tr>\n    <tr>\n      <th>2</th>\n      <td>test</td>\n      <td>First of all I hate those moronic rappers, who...</td>\n      <td>neg</td>\n    </tr>\n    <tr>\n      <th>3</th>\n      <td>test</td>\n      <td>Not even the Beatles could write songs everyon...</td>\n      <td>neg</td>\n    </tr>\n    <tr>\n      <th>4</th>\n      <td>test</td>\n      <td>Brass pictures (movies is not a fitting word f...</td>\n      <td>neg</td>\n    </tr>\n  </tbody>\n</table>\n</div>"
          },
          "metadata": {}
        }
      ]
    },
    {
      "metadata": {
        "trusted": true,
        "_uuid": "fe4bc405f2f9b940232baae0b9f640a48160da64"
      },
      "cell_type": "code",
      "source": "import nltk\nfrom nltk.corpus import stopwords\nfrom nltk.tokenize import word_tokenize",
      "execution_count": 147,
      "outputs": []
    },
    {
      "metadata": {
        "trusted": true,
        "_uuid": "797a6779edb196eac07e719e3c2ecbb12d8dd9c3"
      },
      "cell_type": "code",
      "source": "#REMOVAL OF STOP WORDS FROM MOVIE REVIEWS\nstop_words = set(stopwords.words('english'))\ndef remove_noise(input_text):\n    words = input_text.split() \n    noise_free_words = [word for word in words if word not in stop_words] \n    noise_free_text = \" \".join(noise_free_words) \n    return noise_free_text",
      "execution_count": 148,
      "outputs": []
    },
    {
      "metadata": {
        "trusted": true,
        "_uuid": "80ddd28862d55ab715d51291fbcab1bdb18b84b0"
      },
      "cell_type": "code",
      "source": "df['review']=df.review.apply(remove_noise)",
      "execution_count": 149,
      "outputs": []
    },
    {
      "metadata": {
        "trusted": true,
        "_uuid": "880a59d666d3fcf859101d319b1f3694c02e1826"
      },
      "cell_type": "code",
      "source": "df.head()\n#STOPWORDS REMOVED",
      "execution_count": 150,
      "outputs": [
        {
          "output_type": "execute_result",
          "execution_count": 150,
          "data": {
            "text/plain": "   type                                             review label\n0  test  Once Mr. Costner dragged movie far longer nece...   neg\n1  test  This example majority action films same. Gener...   neg\n2  test  First I hate moronic rappers, could'nt act gun...   neg\n3  test  Not even Beatles could write songs everyone li...   neg\n4  test  Brass pictures (movies fitting word them) real...   neg",
            "text/html": "<div>\n<style scoped>\n    .dataframe tbody tr th:only-of-type {\n        vertical-align: middle;\n    }\n\n    .dataframe tbody tr th {\n        vertical-align: top;\n    }\n\n    .dataframe thead th {\n        text-align: right;\n    }\n</style>\n<table border=\"1\" class=\"dataframe\">\n  <thead>\n    <tr style=\"text-align: right;\">\n      <th></th>\n      <th>type</th>\n      <th>review</th>\n      <th>label</th>\n    </tr>\n  </thead>\n  <tbody>\n    <tr>\n      <th>0</th>\n      <td>test</td>\n      <td>Once Mr. Costner dragged movie far longer nece...</td>\n      <td>neg</td>\n    </tr>\n    <tr>\n      <th>1</th>\n      <td>test</td>\n      <td>This example majority action films same. Gener...</td>\n      <td>neg</td>\n    </tr>\n    <tr>\n      <th>2</th>\n      <td>test</td>\n      <td>First I hate moronic rappers, could'nt act gun...</td>\n      <td>neg</td>\n    </tr>\n    <tr>\n      <th>3</th>\n      <td>test</td>\n      <td>Not even Beatles could write songs everyone li...</td>\n      <td>neg</td>\n    </tr>\n    <tr>\n      <th>4</th>\n      <td>test</td>\n      <td>Brass pictures (movies fitting word them) real...</td>\n      <td>neg</td>\n    </tr>\n  </tbody>\n</table>\n</div>"
          },
          "metadata": {}
        }
      ]
    },
    {
      "metadata": {
        "trusted": true,
        "_uuid": "5d14ef8661d66e2a58138073135325662eb837d4"
      },
      "cell_type": "code",
      "source": "from nltk import WordNetLemmatizer",
      "execution_count": 151,
      "outputs": []
    },
    {
      "metadata": {
        "trusted": true,
        "_uuid": "9746005b9c0fc58476faf4207328a2413d79d0a9"
      },
      "cell_type": "code",
      "source": "# WORD LEMMATIZATION IS BETTER THAN STEMMING THE WORDS\n# WORD LEMMATIZATION DONE ON MOVIE REVIEWS\nlemma = nltk.WordNetLemmatizer()\ndef remove_redundancy(input_text):\n    ex = [i.lower() for i in input_text.split()]\n    lemmas = [lemma.lemmatize(i,\"v\") for i in ex]\n    redundancy_free_text = \" \".join(lemmas) \n    return redundancy_free_text",
      "execution_count": 152,
      "outputs": []
    },
    {
      "metadata": {
        "trusted": true,
        "_uuid": "6110c4cc42780435d94ee8150350689719fd0d9c"
      },
      "cell_type": "code",
      "source": "df['review']=df.review.apply(remove_redundancy)",
      "execution_count": 153,
      "outputs": []
    },
    {
      "metadata": {
        "trusted": true,
        "_uuid": "12b1353a9a484b2d597871f4ac984b86843c807f"
      },
      "cell_type": "code",
      "source": "df.head()\n# AFTER LEMMATIZATION",
      "execution_count": 154,
      "outputs": [
        {
          "output_type": "execute_result",
          "execution_count": 154,
          "data": {
            "text/plain": "   type                                             review label\n0  test  once mr. costner drag movie far longer necessa...   neg\n1  test  this example majority action film same. generi...   neg\n2  test  first i hate moronic rappers, could'nt act gun...   neg\n3  test  not even beatles could write songs everyone li...   neg\n4  test  brass picture (movies fit word them) really so...   neg",
            "text/html": "<div>\n<style scoped>\n    .dataframe tbody tr th:only-of-type {\n        vertical-align: middle;\n    }\n\n    .dataframe tbody tr th {\n        vertical-align: top;\n    }\n\n    .dataframe thead th {\n        text-align: right;\n    }\n</style>\n<table border=\"1\" class=\"dataframe\">\n  <thead>\n    <tr style=\"text-align: right;\">\n      <th></th>\n      <th>type</th>\n      <th>review</th>\n      <th>label</th>\n    </tr>\n  </thead>\n  <tbody>\n    <tr>\n      <th>0</th>\n      <td>test</td>\n      <td>once mr. costner drag movie far longer necessa...</td>\n      <td>neg</td>\n    </tr>\n    <tr>\n      <th>1</th>\n      <td>test</td>\n      <td>this example majority action film same. generi...</td>\n      <td>neg</td>\n    </tr>\n    <tr>\n      <th>2</th>\n      <td>test</td>\n      <td>first i hate moronic rappers, could'nt act gun...</td>\n      <td>neg</td>\n    </tr>\n    <tr>\n      <th>3</th>\n      <td>test</td>\n      <td>not even beatles could write songs everyone li...</td>\n      <td>neg</td>\n    </tr>\n    <tr>\n      <th>4</th>\n      <td>test</td>\n      <td>brass picture (movies fit word them) really so...</td>\n      <td>neg</td>\n    </tr>\n  </tbody>\n</table>\n</div>"
          },
          "metadata": {}
        }
      ]
    },
    {
      "metadata": {
        "trusted": true,
        "_uuid": "ba9d98b3701d494070cc84ce15082ef2e132556c"
      },
      "cell_type": "code",
      "source": "#IMPORTING SLANG DOCUMENT WHICH CONTAINS SOCIAL MEDIA SLANGS AND THEIR ABBREVATIONS\n#EXAMPLE : LOL - LAUGHTHER OUT LOUD\n# EACH SOCIAL MEDIA SLANG IN MOVIE REVIEWS IS REPLACED BY ITS ABBREVATION\nimport csv\nslang_data = []\nwith open('../input/slangwords/slang_dict.doc','rt',encoding='Cp1252') as exRtFile:\n    exchReader = csv.reader(exRtFile,delimiter='`',quoting=csv.QUOTE_NONE)\n    for row in exchReader:       \n        slang_data.append(row)",
      "execution_count": 155,
      "outputs": []
    },
    {
      "metadata": {
        "trusted": true,
        "_uuid": "e7350cd359dca69139891e9ad6e5a23bef6b7472"
      },
      "cell_type": "code",
      "source": "#GENERATION OF lookup_dict CONSISTING OF SOCIAL MEDIA SLANGS AS KEYS  AND THEIR ABBREVEATIONS AS VALUES\nslang_data=pd.DataFrame(slang_data)\nlookup_dict=dict(zip(slang_data[0],slang_data[1]))",
      "execution_count": 158,
      "outputs": []
    },
    {
      "metadata": {
        "trusted": true,
        "_uuid": "e1c446721aa9a016d2a0e20c24b87373d09f5a38"
      },
      "cell_type": "code",
      "source": "# EACH SOCIAL MEDIA SLANG IN MOVIE REVIEWS IS REPLACED BY ITS ABBREVATION\ndef lookup_words(input_text):\n    words = input_text.split() \n    new_words = [] \n    for word in words:\n        if word.lower() in lookup_dict:\n            word = lookup_dict[word.lower()]\n        new_words.append(word) \n        new_text = \" \".join(new_words) \n    return new_text",
      "execution_count": 159,
      "outputs": []
    },
    {
      "metadata": {
        "trusted": true,
        "_uuid": "96112f9f4e1677e69865d2a138ef94c9dcb32d1a"
      },
      "cell_type": "code",
      "source": "df['review']=df.review.apply(lookup_words)",
      "execution_count": 160,
      "outputs": []
    },
    {
      "metadata": {
        "trusted": true,
        "_uuid": "b08c4c9370129b11825df77fbeddb5e76906eb90"
      },
      "cell_type": "code",
      "source": "# REMOVAL OF HTML TAGS IN REVIEWS\ndf['review']=df.review.str.replace(r'<[^>]+>','')",
      "execution_count": 162,
      "outputs": []
    },
    {
      "metadata": {
        "trusted": true,
        "_uuid": "220ce03a105bee98d18085305710421b7bab8127"
      },
      "cell_type": "code",
      "source": "# TOKENIZING ALL REVIEWS FOR GENERATING NGRAMS\ntotalstr=\" \".join(df['review'])\ntokenized = totalstr.split()",
      "execution_count": 163,
      "outputs": []
    },
    {
      "metadata": {
        "trusted": true,
        "_uuid": "09e4735d9ef8dd50f872f48882dde2c1c7d8d1b7"
      },
      "cell_type": "code",
      "source": "# MOST FREQUENT BIGRAMS\nimport nltk, re, string, collections\nfrom nltk.util import ngrams\nBigrams = ngrams(tokenized, 2)",
      "execution_count": 164,
      "outputs": []
    },
    {
      "metadata": {
        "trusted": true,
        "_uuid": "5767ac52bfa1f54614193bebf341ba630d89b72d"
      },
      "cell_type": "code",
      "source": "BigramFreq = collections.Counter(Bigrams)\n\n",
      "execution_count": 165,
      "outputs": []
    },
    {
      "metadata": {
        "trusted": true,
        "_uuid": "c3e1455115193313fbbd82ad1c52336dc6b37dad"
      },
      "cell_type": "code",
      "source": "BigramFreq.most_common(10)",
      "execution_count": 166,
      "outputs": [
        {
          "output_type": "execute_result",
          "execution_count": 166,
          "data": {
            "text/plain": "[(('i', 'think'), 9345),\n (('this', 'movie'), 5220),\n (('i', 'would'), 4066),\n (('i', 'know'), 3683),\n (('look', 'like'), 3517),\n (('i', 'saw'), 3450),\n (('i', 'find'), 3357),\n (('i', 'see'), 3268),\n (('i', 'watch'), 3218),\n (('the', 'film'), 3120)]"
          },
          "metadata": {}
        }
      ]
    },
    {
      "metadata": {
        "trusted": true,
        "_uuid": "8c4aa1ccfa1e621fae267a4dae2ef4cf8899cf04"
      },
      "cell_type": "code",
      "source": "#MOST FREQUENT TRIGRAMS\ntrigrams = ngrams(tokenized, 3)\ntrigramFreq = collections.Counter(trigrams)\ntrigramFreq.most_common(10)",
      "execution_count": 167,
      "outputs": [
        {
          "output_type": "execute_result",
          "execution_count": 167,
          "data": {
            "text/plain": "[(('Silence|', 'A', 'Trailing'), 1091),\n (('A', 'Trailing', 'Thought'), 1091),\n (('i', 'think', 'i'), 609),\n (('i', 'ever', 'seen.'), 595),\n (('!', '!', '!'), 562),\n (('i', 'saw', 'movie'), 501),\n ((\"i've\", 'ever', 'seen.'), 461),\n (('i', 'would', 'like'), 417),\n (('i', 'first', 'saw'), 416),\n (('i', 'think', 'movie'), 413)]"
          },
          "metadata": {}
        }
      ]
    },
    {
      "metadata": {
        "trusted": true,
        "_uuid": "9b1eb2fa4526c04eee044b17ebd0018669cfecbd"
      },
      "cell_type": "code",
      "source": "#MOST FREQUENT QUADRIGRAMS\nquadrigrams = ngrams(tokenized, 4)\nquadrigramFreq = collections.Counter(quadrigrams)\nquadrigramFreq.most_common(10)",
      "execution_count": 168,
      "outputs": [
        {
          "output_type": "execute_result",
          "execution_count": 168,
          "data": {
            "text/plain": "[(('Silence|', 'A', 'Trailing', 'Thought'), 1091),\n (('!', '!', '!', '!'), 555),\n (('Indicating', 'a', 'spelling', 'correction'), 263),\n (('worst', 'movie', 'i', 'ever'), 166),\n (('first', 'time', 'i', 'saw'), 130),\n (('movies', 'i', 'ever', 'seen.'), 126),\n (('Denotes', 'Sarcasm|', 'Put', 'At'), 125),\n (('Sarcasm|', 'Put', 'At', 'The'), 125),\n (('Put', 'At', 'The', 'End'), 125),\n (('At', 'The', 'End', 'Of'), 125)]"
          },
          "metadata": {}
        }
      ]
    },
    {
      "metadata": {
        "trusted": true,
        "_uuid": "163c70993b3df62ec041205214694b53c470b5e8"
      },
      "cell_type": "code",
      "source": "# ENCODING LABEL VALUES \"YES\" TO 1 and \"NO\" TO 0\nfrom sklearn.preprocessing import LabelEncoder\nle = LabelEncoder()\nle.fit(df['label'].unique())\ndf.label=le.transform(df['label'])\n\n\n",
      "execution_count": 169,
      "outputs": []
    },
    {
      "metadata": {
        "trusted": true,
        "_uuid": "940b94d6c3a497ff272defeb6496aeefca461e41"
      },
      "cell_type": "code",
      "source": "# DOLLAR SIGN IS CAUSING ENCODING PROBLEMS.HENCE I REMOVED ALL DOLLAR SIGNS IN REVIEWS\ndf['review']=df['review'].str.replace(r'$','')\n",
      "execution_count": 171,
      "outputs": []
    },
    {
      "metadata": {
        "trusted": true,
        "_uuid": "c85b1de78ff653dfc2bdd84ba86ace0e321c00d1"
      },
      "cell_type": "code",
      "source": "#GENERATION OF WORD VECTORS FOR ANALYZING RELATION BETWEEN THE WORDS IN THE MOVIE REVIEWS",
      "execution_count": null,
      "outputs": []
    },
    {
      "metadata": {
        "trusted": true,
        "_uuid": "8cedc0608c2104bf6c03500ded6eb78e36bb9379"
      },
      "cell_type": "code",
      "source": "# DATA SET IS HUGE.HENCE I USED ONLY THE WORDS THAT ARE REPEATED ATLEAST 3000 TIMES\nfrom gensim.models import Word2Vec\nmodel_viz = Word2Vec(df['review'].apply(lambda s: s.split()),min_count=3000)",
      "execution_count": 172,
      "outputs": []
    },
    {
      "metadata": {
        "trusted": true,
        "_uuid": "0ddaef1dd068bc3a23d057fba6468daa67168f92"
      },
      "cell_type": "code",
      "source": "# GENERATED 287 WORD VECTORS\nword_vector=model_viz[model_viz.wv.vocab]\nword_vector.shape",
      "execution_count": 173,
      "outputs": [
        {
          "output_type": "stream",
          "text": "/opt/conda/lib/python3.6/site-packages/ipykernel_launcher.py:2: DeprecationWarning: Call to deprecated `__getitem__` (Method will be removed in 4.0.0, use self.wv.__getitem__() instead).\n  \n",
          "name": "stderr"
        },
        {
          "output_type": "execute_result",
          "execution_count": 173,
          "data": {
            "text/plain": "(287, 100)"
          },
          "metadata": {}
        }
      ]
    },
    {
      "metadata": {
        "trusted": true,
        "_uuid": "6f8cace7918ef16c995f6b996a1f92f2549119d1"
      },
      "cell_type": "code",
      "source": "from sklearn.decomposition import PCA",
      "execution_count": 174,
      "outputs": []
    },
    {
      "metadata": {
        "trusted": true,
        "_uuid": "ee6f15fbf57ace8f737fd91bae3429f283960ba0"
      },
      "cell_type": "code",
      "source": "# DID PCA TO REDUCE DIMENSION OF EACH VECTOR TO 2 VALUES\n# NOW EACH VECTOR CAN BE USED AS POINT IN XY PLANE AND ALL WORDS CAN BE PLOTTED AS SCATTER PLOT\npca = PCA(n_components=2)\nresult = pca.fit_transform(word_vector)\nresult.shape",
      "execution_count": 175,
      "outputs": [
        {
          "output_type": "execute_result",
          "execution_count": 175,
          "data": {
            "text/plain": "(287, 2)"
          },
          "metadata": {}
        }
      ]
    },
    {
      "metadata": {
        "trusted": true,
        "_uuid": "9be3ab6a5e90c1cbad3758293814c58f742f7daf"
      },
      "cell_type": "code",
      "source": "from matplotlib import pyplot\npyplot.scatter(result[:, 0], result[:, 1])\nwords = list(model_viz.wv.vocab)\nfor i, word in enumerate(words):\n    pyplot.annotate(word, xy=(result[i, 0], result[i, 1]))   \npyplot.plot(figsize=(10, 8))\npyplot.show()\n# WE CAN SEE THAT WORDS (MAN,WOMAN,SHE,HE,GIRL,YOUNG) HAVE A STRONG SIMILARITY AND FORMED A CLUSTER AT THE RIGHT END OF GRAPH",
      "execution_count": 176,
      "outputs": [
        {
          "output_type": "display_data",
          "data": {
            "text/plain": "<Figure size 432x288 with 1 Axes>",
            "image/png": "[encoded data removed]"
          },
          "metadata": {}
        }
      ]
    },
    {
      "metadata": {
        "trusted": true,
        "_uuid": "e36a58e193911a1af43fdef4c166ccf41b58734d"
      },
      "cell_type": "code",
      "source": "# TOP 10 SIMILAR WORDS TO WORD 'MAN' IN THE MOVIE REVIEWS\nmodel_viz.wv.most_similar('man')",
      "execution_count": 177,
      "outputs": [
        {
          "output_type": "stream",
          "text": "/opt/conda/lib/python3.6/site-packages/gensim/matutils.py:737: FutureWarning: Conversion of the second argument of issubdtype from `int` to `np.signedinteger` is deprecated. In future, it will be treated as `np.int64 == np.dtype(int).type`.\n  if np.issubdtype(vec.dtype, np.int):\n",
          "name": "stderr"
        },
        {
          "output_type": "execute_result",
          "execution_count": 177,
          "data": {
            "text/plain": "[('woman', 0.8038262724876404),\n ('young', 0.7145476341247559),\n ('he', 0.6408846378326416),\n ('meet', 0.6106557846069336),\n ('become', 0.5493636131286621),\n ('girl', 0.538153886795044),\n ('old', 0.5218544006347656),\n ('name', 0.5112738013267517),\n ('kill', 0.5111662149429321),\n ('lead', 0.4735769033432007)]"
          },
          "metadata": {}
        }
      ]
    },
    {
      "metadata": {
        "trusted": true,
        "_uuid": "a4c920010433d0098f81b9a340edc2eb2869da5a"
      },
      "cell_type": "code",
      "source": "# SCATTER PLOT OF TOP 10 MOST SIMILAR WORDS TO WORD 'WOMAN'\nwords=[i[0] for i in list(model_viz.wv.most_similar('woman'))]\nvectors=[model_viz[word] for word in words]\nresult1 = pca.fit_transform(vectors)\npyplot.scatter(result1[:, 0], result1[:, 1])\nfor i, word in enumerate(words):\n    pyplot.annotate(word, xy=(result1[i, 0], result1[i, 1]))   \npyplot.plot(figsize=(10, 8))\npyplot.show()",
      "execution_count": 178,
      "outputs": [
        {
          "output_type": "stream",
          "text": "/opt/conda/lib/python3.6/site-packages/gensim/matutils.py:737: FutureWarning: Conversion of the second argument of issubdtype from `int` to `np.signedinteger` is deprecated. In future, it will be treated as `np.int64 == np.dtype(int).type`.\n  if np.issubdtype(vec.dtype, np.int):\n/opt/conda/lib/python3.6/site-packages/ipykernel_launcher.py:3: DeprecationWarning: Call to deprecated `__getitem__` (Method will be removed in 4.0.0, use self.wv.__getitem__() instead).\n  This is separate from the ipykernel package so we can avoid doing imports until\n",
          "name": "stderr"
        },
        {
          "output_type": "display_data",
          "data": {
            "text/plain": "<Figure size 432x288 with 1 Axes>",
            "image/png": "[encoded data removed]"
          },
          "metadata": {}
        }
      ]
    },
    {
      "metadata": {
        "trusted": true,
        "_uuid": "a78d90cd644742807ca673110474591e353b5d1e"
      },
      "cell_type": "code",
      "source": "# SCATTER PLOT OF TOP 10 MOST SIMILAR WORDS TO WORD 'LAUGH'\nwords=[i[0] for i in list(model_viz.wv.most_similar('laugh'))]\nvectors=[model_viz[word] for word in words]\nresult1 = pca.fit_transform(vectors)\npyplot.scatter(result1[:, 0], result1[:, 1])\nfor i, word in enumerate(words):\n    pyplot.annotate(word, xy=(result1[i, 0], result1[i, 1]))   \npyplot.plot(figsize=(10, 8))\npyplot.show()",
      "execution_count": 179,
      "outputs": [
        {
          "output_type": "stream",
          "text": "/opt/conda/lib/python3.6/site-packages/gensim/matutils.py:737: FutureWarning: Conversion of the second argument of issubdtype from `int` to `np.signedinteger` is deprecated. In future, it will be treated as `np.int64 == np.dtype(int).type`.\n  if np.issubdtype(vec.dtype, np.int):\n/opt/conda/lib/python3.6/site-packages/ipykernel_launcher.py:3: DeprecationWarning: Call to deprecated `__getitem__` (Method will be removed in 4.0.0, use self.wv.__getitem__() instead).\n  This is separate from the ipykernel package so we can avoid doing imports until\n",
          "name": "stderr"
        },
        {
          "output_type": "display_data",
          "data": {
            "text/plain": "<Figure size 432x288 with 1 Axes>",
            "image/png": "[encoded data removed]"
          },
          "metadata": {}
        }
      ]
    },
    {
      "metadata": {
        "trusted": true,
        "_uuid": "03f9fa59e043341cbeb0cc792f1e84538f9fbf08"
      },
      "cell_type": "code",
      "source": "df.to_csv(\"imdb_filtered.csv\")\ndf.shape",
      "execution_count": 180,
      "outputs": [
        {
          "output_type": "execute_result",
          "execution_count": 180,
          "data": {
            "text/plain": "(50000, 3)"
          },
          "metadata": {}
        }
      ]
    },
    {
      "metadata": {
        "trusted": true,
        "_uuid": "6ab3d8dac271f34a5de7f8b944e9ccd4b348906b"
      },
      "cell_type": "code",
      "source": "from sklearn.model_selection import train_test_split\ntrain,test=train_test_split(df,test_size=0.25)",
      "execution_count": 181,
      "outputs": []
    },
    {
      "metadata": {
        "trusted": true,
        "_uuid": "7b3e75ffc7090b344cd35a4b92ad58d4307e4af2"
      },
      "cell_type": "code",
      "source": "# GENERATION OF TAGGED DOCUMENTS.\n# TAGGED DOCUMENTS ARE NEEDED FOR GENERATING VECTORS FOR EACH DOCUMENT\n",
      "execution_count": null,
      "outputs": []
    },
    {
      "metadata": {
        "trusted": true,
        "_uuid": "5d474e575bb74616c6e4ac0c1066bf10ad4a34ac"
      },
      "cell_type": "code",
      "source": "from gensim.models.doc2vec import TaggedDocument\nfrom gensim.models import Doc2Vec\nfrom gensim.utils import simple_preprocess\n\ndef tag_docs(docs):\n    tagged = docs.apply(lambda r: TaggedDocument(words=simple_preprocess(r['review']), tags=[r.label]), axis=1)\n    return tagged",
      "execution_count": 182,
      "outputs": []
    },
    {
      "metadata": {
        "trusted": true,
        "_uuid": "eaa8ffcafe498701d48b488e4e582dd876db7aeb"
      },
      "cell_type": "code",
      "source": "#GENERATION OF TAGGED TRAIN AND TEST SETS\ntagged_train=tag_docs(train)\ntagged_test=tag_docs(test)",
      "execution_count": 183,
      "outputs": []
    },
    {
      "metadata": {
        "trusted": true,
        "_uuid": "c161721a1e739209f748f44e48b46828a9b2698b"
      },
      "cell_type": "code",
      "source": "tagged_train.shape",
      "execution_count": 184,
      "outputs": [
        {
          "output_type": "execute_result",
          "execution_count": 184,
          "data": {
            "text/plain": "(37500,)"
          },
          "metadata": {}
        }
      ]
    },
    {
      "metadata": {
        "trusted": true,
        "_uuid": "4fbfe9d5908ad7f83832a167ab2cbc0075de5d60"
      },
      "cell_type": "code",
      "source": "# USED THE \"tagged_train\" DATASET TO TRAIN THE doc2vec_model ",
      "execution_count": null,
      "outputs": []
    },
    {
      "metadata": {
        "trusted": true,
        "_uuid": "220b24c0b4cda3d58de0662a5ff32cb83b5bd95b"
      },
      "cell_type": "code",
      "source": "def train_doc2vec_model(tagged_docs):\n    sents = tagged_docs.values\n    doc2vec_model = Doc2Vec(sents,min_count=1, window=10, size=100,sample=1e-4,workers=8,iter=20)\n    return doc2vec_model\n",
      "execution_count": 185,
      "outputs": []
    },
    {
      "metadata": {
        "trusted": true,
        "_uuid": "952ae669321802246a69fef0bb5b3a31421e3dc1"
      },
      "cell_type": "code",
      "source": "# USING THE \"tagged_train\" DATASET TO TRAIN THE doc2vec_model\nmodel=train_doc2vec_model(tagged_train)",
      "execution_count": 186,
      "outputs": [
        {
          "output_type": "stream",
          "text": "/opt/conda/lib/python3.6/site-packages/gensim/models/doc2vec.py:531: UserWarning: The parameter `iter` is deprecated, will be removed in 4.0.0, use `epochs` instead.\n  warnings.warn(\"The parameter `iter` is deprecated, will be removed in 4.0.0, use `epochs` instead.\")\n/opt/conda/lib/python3.6/site-packages/gensim/models/doc2vec.py:535: UserWarning: The parameter `size` is deprecated, will be removed in 4.0.0, use `vector_size` instead.\n  warnings.warn(\"The parameter `size` is deprecated, will be removed in 4.0.0, use `vector_size` instead.\")\n",
          "name": "stderr"
        }
      ]
    },
    {
      "metadata": {
        "trusted": true,
        "_uuid": "39f5d2ef22adcbae39846efd80052a1928a93ca8"
      },
      "cell_type": "code",
      "source": "#TRAINED doc2vec_model IS THEN USED FOR VECTORIZING EACH DOCUMENT\n#infer_vector FUNCTION CONVERTS EACH DOCUMENT TO VECTOR OF X DIMENSIONS",
      "execution_count": 187,
      "outputs": []
    },
    {
      "metadata": {
        "trusted": true,
        "_uuid": "775d42f6c5882af4f1cf5fec6f101bf81a1ee7b1"
      },
      "cell_type": "code",
      "source": "def vec_for_learning(doc2vec_model, tagged_docs):\n    sents = tagged_docs.values\n    targets, regressors = zip(*[(doc.tags[0], doc2vec_model.infer_vector(doc.words, steps=20)) for doc in sents])\n    return targets, regressors",
      "execution_count": 188,
      "outputs": []
    },
    {
      "metadata": {
        "trusted": true,
        "_uuid": "c4ca555e7ce170af074a5f59712bd81db0c65366"
      },
      "cell_type": "code",
      "source": "# DOCUMENTS ARE TURNED INTO VECTORS OF X DIMENSIONS.\n# THESE VECTOR VALUES CAN BE USED AS FEATURE VALUES FOR EACH DOCUMENT \ny_train, X_train = vec_for_learning(model, tagged_train)\ny_test, X_test = vec_for_learning(model, tagged_test)",
      "execution_count": 189,
      "outputs": []
    },
    {
      "metadata": {
        "trusted": true,
        "_uuid": "f1ee12f55a182180631b0c3203e6ee484c6ce7c0"
      },
      "cell_type": "code",
      "source": "#TRAINING LOGISTIC REGRESSION MODEL ON THE DOCUMENT VECTORS GENERATED\nfrom sklearn.linear_model import LogisticRegression\nlogreg = LogisticRegression()\nlogreg.fit(X_train, y_train)\ny_pred = logreg.predict(X_test)\n",
      "execution_count": 190,
      "outputs": []
    },
    {
      "metadata": {
        "trusted": true,
        "_uuid": "2eab3e11e6eaed79a6feb15146d4eaa6ad209320"
      },
      "cell_type": "code",
      "source": "from sklearn.metrics import accuracy_score\naccuracy_score(y_pred,y_test)",
      "execution_count": 191,
      "outputs": [
        {
          "output_type": "execute_result",
          "execution_count": 191,
          "data": {
            "text/plain": "0.83744"
          },
          "metadata": {}
        }
      ]
    },
    {
      "metadata": {
        "trusted": true,
        "_uuid": "937438a01a1dc60afce363e03e5557aaaf667b13"
      },
      "cell_type": "code",
      "source": "# IF I INCREASE THE 'SIZE' PARAMETER VALUE OF DOC2Vec FUNCTION ,NO OF FEATURES OF EACH DOCUMENT WILL INCREASE\n#IF FEATURES ARE INCREASED ,ACCURACY OF THE SENTIMENT ANALYSIS MODEL CAN INCREASE\n#BUT MY LAPTOP IS HANGING WHEN I TRY TO DO THAT.HENCE I SETTLED AT 83 PERCENT ACCURACY\n# I HAVE TO TRY OTHER MODELS LIKE TF,IDF FOR GENERATING FEATURES FROM DOCUMENTS",
      "execution_count": null,
      "outputs": []
    },
    {
      "metadata": {
        "trusted": true,
        "_uuid": "59a332436e47d4fbda600d53f99f74852ac622d0"
      },
      "cell_type": "code",
      "source": "",
      "execution_count": null,
      "outputs": []
    },
    {
      "metadata": {
        "trusted": true,
        "_uuid": "b4cc7c818fc347dc897fb51e8a29c42ef6bbefb0"
      },
      "cell_type": "code",
      "source": "",
      "execution_count": null,
      "outputs": []
    },
    {
      "metadata": {
        "trusted": true,
        "_uuid": "419fd9f2a7cbacf88ed3d86c9e2943c55855cc13"
      },
      "cell_type": "code",
      "source": "",
      "execution_count": null,
      "outputs": []
    },
    {
      "metadata": {
        "trusted": true,
        "_uuid": "63e0f6c3f40d936cc574df636bd303c83aa30e8a"
      },
      "cell_type": "code",
      "source": "",
      "execution_count": null,
      "outputs": []
    }
  ],
  "metadata": {
    "kernelspec": {
      "display_name": "Python 3",
      "language": "python",
      "name": "python3"
    },
    "language_info": {
      "name": "python",
      "version": "3.6.6",
      "mimetype": "text/x-python",
      "codemirror_mode": {
        "name": "ipython",
        "version": 3
      },
      "pygments_lexer": "ipython3",
      "nbconvert_exporter": "python",
      "file_extension": ".py"
    }
  },
  "nbformat": 4,
  "nbformat_minor": 1
}
